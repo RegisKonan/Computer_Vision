{
  "cells": [
    {
      "cell_type": "markdown",
      "metadata": {
        "id": "view-in-github",
        "colab_type": "text"
      },
      "source": [
        "<a href=\"https://colab.research.google.com/github/RegisKonan/Computer_Vision/blob/main/regis_djaha_1a_logistic_regression.ipynb\" target=\"_parent\"><img src=\"https://colab.research.google.com/assets/colab-badge.svg\" alt=\"Open In Colab\"/></a>"
      ]
    },
    {
      "cell_type": "code",
      "execution_count": null,
      "metadata": {
        "id": "hqnl0AKVXIA4"
      },
      "outputs": [],
      "source": [
        "import matplotlib.pyplot\n",
        "import numpy.random\n",
        "import torch.utils.data\n",
        "import torchvision\n",
        "from torch import Tensor\n",
        "from torch.nn import Module\n",
        "from torch.utils.data import DataLoader\n",
        "from torchvision.datasets import MNIST\n",
        "from torchvision.transforms import ToTensor"
      ]
    },
    {
      "cell_type": "code",
      "source": [
        "import torch\n",
        "import torch.nn as nn\n",
        "import torch.nn.functional as F"
      ],
      "metadata": {
        "id": "ES-B7P9z2QoQ"
      },
      "execution_count": null,
      "outputs": []
    },
    {
      "cell_type": "markdown",
      "metadata": {
        "id": "mCt-frpFH8oN"
      },
      "source": [
        "# Tutorial 1a. Logistic Regression\n",
        "\n",
        "In the first tutorial, we are going to train a logistic regressor on the MNIST dataset of handwritten digits. Next, we will turn this logistic regressor into a non-linear convolutional network."
      ]
    },
    {
      "cell_type": "code",
      "execution_count": null,
      "metadata": {
        "id": "dzfEE578uSNp"
      },
      "outputs": [],
      "source": [
        "if torch.cuda.is_available():\n",
        "    DEVICE = \"cuda:0\"\n",
        "else:\n",
        "    DEVICE = \"cpu\""
      ]
    },
    {
      "cell_type": "markdown",
      "metadata": {
        "id": "Vo6laRbFwM-b"
      },
      "source": [
        "## Loading Datasets\n",
        "\n",
        "The following code will load the MNIST dataset. Run it and inspect some of the images and their labels to confirm they are correct."
      ]
    },
    {
      "cell_type": "code",
      "execution_count": null,
      "metadata": {
        "id": "GX_ky5qC--uv"
      },
      "outputs": [],
      "source": [
        "train_dataloader = DataLoader(\n",
        "    dataset=MNIST(\n",
        "        root=\"/tmp/mnist\",\n",
        "        train=True,\n",
        "        transform=ToTensor(),\n",
        "        download=True,\n",
        "    ),\n",
        "    batch_size=64,\n",
        "    shuffle=True,\n",
        ")\n",
        "\n",
        "test_dataloader = DataLoader(\n",
        "    dataset=MNIST(\n",
        "        root=\"/tmp/mnist\",\n",
        "        train=False,\n",
        "        transform=ToTensor(),\n",
        "        download=True,\n",
        "    ),\n",
        "    batch_size=64,\n",
        "    shuffle=False,\n",
        ")"
      ]
    },
    {
      "cell_type": "code",
      "execution_count": null,
      "metadata": {
        "colab": {
          "base_uri": "https://localhost:8080/",
          "height": 445
        },
        "id": "E8dy7-kBHwco",
        "outputId": "42ca75a9-5c44-41fb-c8e3-38e33959181e"
      },
      "outputs": [
        {
          "output_type": "execute_result",
          "data": {
            "text/plain": [
              "(-0.5, 27.5, 27.5, -0.5)"
            ]
          },
          "metadata": {},
          "execution_count": 19
        },
        {
          "output_type": "display_data",
          "data": {
            "text/plain": [
              "<Figure size 640x480 with 1 Axes>"
            ],
            "image/png": "[encoded data removed]"
          },
          "metadata": {}
        }
      ],
      "source": [
        "image, target = [*test_dataloader][0]\n",
        "\n",
        "random_index = numpy.random.randint(0, 64)\n",
        "\n",
        "image, target = image[random_index, 0], target[random_index]\n",
        "\n",
        "matplotlib.pyplot.imshow(\n",
        "    image, \n",
        "    cmap=\"gray\", \n",
        "    interpolation=\"nearest\",\n",
        ")\n",
        "\n",
        "matplotlib.pyplot.title(f\"target = {target}\")\n",
        "matplotlib.pyplot.axis(\"off\")"
      ]
    },
    {
      "cell_type": "markdown",
      "metadata": {
        "id": "aKbXgidhWr6L"
      },
      "source": [
        "Next, we create a PyTorch dataloader for the MNIST dataset."
      ]
    },
    {
      "cell_type": "markdown",
      "metadata": {
        "id": "liekFZzvYX9E"
      },
      "source": [
        "Next, implement a logistic regression model in PyTorch. Note that a logistic regressor uses a linear transformation of the input.\n"
      ]
    },
    {
      "cell_type": "markdown",
      "metadata": {
        "id": "4FbMTeVcwM-d"
      },
      "source": [
        "## Exercise 1. Logistic Regression Module"
      ]
    },
    {
      "cell_type": "code",
      "execution_count": null,
      "metadata": {
        "id": "zEw5YorSYkWF"
      },
      "outputs": [],
      "source": [
        "class LogisticRegression(Module):\n",
        "    def __init__(self, input_size: int, num_classes: int):\n",
        "        super().__init__()\n",
        "        self.input_size=input_size\n",
        "        self.num_classes=num_classes\n",
        "\n",
        "        ###########################################################################\n",
        "        # TODO: Instantiate the layer here.                                       #\n",
        "        ###########################################################################\n",
        "        self.Regression= nn.Linear(input_size,num_classes)     \n",
        "            \n",
        "  \n",
        "    def forward(self, x: Tensor) -> Tensor:\n",
        "        ###########################################################################\n",
        "        # TODO: Apply the layer to the input.                                     #\n",
        "        ###########################################################################\n",
        "        out=self.Regression(x)\n",
        "        return out"
      ]
    },
    {
      "cell_type": "code",
      "execution_count": null,
      "metadata": {
        "id": "xhnZKVDswM-d"
      },
      "outputs": [],
      "source": [
        "module = LogisticRegression(28 * 28, 10)\n",
        "\n",
        "module = module.to(device=DEVICE)"
      ]
    },
    {
      "cell_type": "code",
      "execution_count": null,
      "metadata": {
        "id": "UUJEyA_gwM-e"
      },
      "outputs": [],
      "source": [
        "import torch.optim as optim\n",
        "###########################################################################\n",
        "# TODO: Create criterion and optimizer here.                              #\n",
        "###########################################################################\n",
        "\n",
        "criterion = nn.CrossEntropyLoss()\n",
        "\n",
        "optimizer = optim.SGD(module.parameters(), lr=0.001)"
      ]
    },
    {
      "cell_type": "markdown",
      "metadata": {
        "id": "ekK9FumpwM-e"
      },
      "source": [
        "## Training"
      ]
    },
    {
      "cell_type": "markdown",
      "metadata": {
        "id": "_pmOHVFCwM-e"
      },
      "source": [
        "We will use the following generic training loop for a PyTorch model."
      ]
    },
    {
      "cell_type": "code",
      "execution_count": null,
      "metadata": {
        "colab": {
          "base_uri": "https://localhost:8080/"
        },
        "id": "qVyEKl3OZLJw",
        "outputId": "efa75b95-32e5-40a3-8b9c-02715324c1f2"
      },
      "outputs": [
        {
          "output_type": "stream",
          "name": "stdout",
          "text": [
            "Train Epoch: 0 [0/60000 (0%)]\tLoss: 0.543445\n",
            "Train Epoch: 0 [32000/60000 (53%)]\tLoss: 0.396666\n",
            "Train Epoch: 1 [0/60000 (0%)]\tLoss: 0.384140\n",
            "Train Epoch: 1 [32000/60000 (53%)]\tLoss: 0.397480\n",
            "Train Epoch: 2 [0/60000 (0%)]\tLoss: 0.391838\n",
            "Train Epoch: 2 [32000/60000 (53%)]\tLoss: 0.391860\n",
            "Train Epoch: 3 [0/60000 (0%)]\tLoss: 0.393481\n",
            "Train Epoch: 3 [32000/60000 (53%)]\tLoss: 0.392384\n",
            "Train Epoch: 4 [0/60000 (0%)]\tLoss: 0.382295\n",
            "Train Epoch: 4 [32000/60000 (53%)]\tLoss: 0.399693\n"
          ]
        }
      ],
      "source": [
        "# Train the model. If everything is correct, the loss should go below 0.45.\n",
        "\n",
        "EPOCHS = 5\n",
        "\n",
        "# Exponential moving average of the loss:\n",
        "ema = None\n",
        "\n",
        "for epoch in range(EPOCHS):\n",
        "    for batch_index, (train_images, train_targets) in enumerate(train_dataloader):\n",
        "        train_images = train_images.view(-1, 28 * 28).requires_grad_().to(device=DEVICE)\n",
        "\n",
        "        test_targets = train_targets.to(device=DEVICE)\n",
        "\n",
        "        # Clear gradients w.r.t. parameters\n",
        "        optimizer.zero_grad()\n",
        "\n",
        "        # Forward pass to get output/logits\n",
        "        outputs = module(train_images)\n",
        "\n",
        "        # Calculate Loss: softmax --> cross entropy loss\n",
        "        loss = criterion(outputs, train_targets)\n",
        "\n",
        "        # Getting gradients w.r.t. parameters\n",
        "        loss.backward()\n",
        "\n",
        "        # Updates parameters:\n",
        "        optimizer.step()\n",
        "\n",
        "        # NOTE: It is important to call .item() on the loss before summing.\n",
        "        if ema is None:\n",
        "            ema = loss.item()\n",
        "        else:\n",
        "            ema += (loss.item() - ema) * 0.01\n",
        "\n",
        "        if batch_index % 500 == 0:\n",
        "            print(\n",
        "                \"Train Epoch: {} [{}/{} ({:.0f}%)]\\tLoss: {:.6f}\".format(\n",
        "                    epoch,\n",
        "                    batch_index * len(train_images),\n",
        "                    len(train_dataloader.dataset),\n",
        "                    100.0 * batch_index / len(train_dataloader),\n",
        "                    ema,\n",
        "                ),\n",
        "            )"
      ]
    },
    {
      "cell_type": "markdown",
      "metadata": {
        "id": "oN8qTuGkZ-3X"
      },
      "source": [
        "**Question:** For the model you are currently using, is there any difference between using the model in `train` mode or using it in `eval` mode? \n",
        "\n",
        "Create an SGD optimizer and us it to train the logistic regressor on the MNIST training data for a few epochs. What loss function do you need to use?"
      ]
    },
    {
      "cell_type": "markdown",
      "metadata": {
        "id": "x0QN7Mhiar7d"
      },
      "source": [
        "### Embeddings \n",
        "\n",
        "Visualize the weights of the trained model. What do you see? Why?"
      ]
    },
    {
      "cell_type": "code",
      "execution_count": null,
      "metadata": {
        "id": "vOOA8LbMwM-f"
      },
      "outputs": [],
      "source": [
        "assert module.Regression.weight.shape == (10, 28 * 28)"
      ]
    },
    {
      "cell_type": "code",
      "execution_count": null,
      "metadata": {
        "id": "gxletH44a4MX",
        "colab": {
          "base_uri": "https://localhost:8080/",
          "height": 256
        },
        "outputId": "4b54af42-5a14-4dcb-e470-3e18f5996f62"
      },
      "outputs": [
        {
          "output_type": "execute_result",
          "data": {
            "text/plain": [
              "(-0.5, 151.5, 61.5, -0.5)"
            ]
          },
          "metadata": {},
          "execution_count": 30
        },
        {
          "output_type": "display_data",
          "data": {
            "text/plain": [
              "<Figure size 640x480 with 1 Axes>"
            ],
            "image/png": "[encoded data removed]"
          },
          "metadata": {}
        }
      ],
      "source": [
        "matplotlib.pyplot.imshow(\n",
        "    numpy.transpose(\n",
        "        torchvision.utils.make_grid(\n",
        "            module.Regression.weight.view(10, 1, 28, 28),\n",
        "            normalize=True,\n",
        "            nrow=5,\n",
        "        ), \n",
        "        (1, 2, 0),\n",
        "    ), \n",
        "    interpolation=\"nearest\",\n",
        ")\n",
        "\n",
        "matplotlib.pyplot.grid(False)\n",
        "matplotlib.pyplot.gca().axis(\"off\")"
      ]
    },
    {
      "cell_type": "markdown",
      "metadata": {
        "id": "7INf7jlRwM-f"
      },
      "source": [
        "## Evaluation"
      ]
    },
    {
      "cell_type": "markdown",
      "metadata": {
        "id": "Lxf5NxQ6a5cT"
      },
      "source": [
        "Use the following function to measure the test accuracy of your trained model."
      ]
    },
    {
      "cell_type": "code",
      "execution_count": null,
      "metadata": {
        "id": "8UYWbqZYa9Qr",
        "colab": {
          "base_uri": "https://localhost:8080/"
        },
        "outputId": "8cd48591-0d71-440a-e9b2-ba10cc293320"
      },
      "outputs": [
        {
          "output_type": "execute_result",
          "data": {
            "text/plain": [
              "0.9019"
            ]
          },
          "metadata": {},
          "execution_count": 31
        }
      ],
      "source": [
        "correct_predictions = 0\n",
        "predictions = 0\n",
        "\n",
        "# Iterate through test dataset\n",
        "for test_images, test_targets in test_dataloader:\n",
        "    test_images = test_images.view(-1, 28 * 28).to(DEVICE)\n",
        "\n",
        "    # Forward pass only to get logits/output\n",
        "    outputs = module(test_images)\n",
        "\n",
        "    # Get predictions from the maximum value\n",
        "    _, predicted = torch.max(outputs.data, 1)\n",
        "\n",
        "    predictions += test_targets.size(0)\n",
        "\n",
        "    if torch.cuda.is_available():\n",
        "        correct_predictions += (predicted.cpu() == test_targets.cpu()).sum()\n",
        "    else:\n",
        "        correct_predictions += (predicted == test_targets).sum()\n",
        "\n",
        "correct_predictions.item() / predictions"
      ]
    },
    {
      "cell_type": "code",
      "source": [],
      "metadata": {
        "id": "cLqOkH0L-Y56"
      },
      "execution_count": null,
      "outputs": []
    }
  ],
  "metadata": {
    "colab": {
      "provenance": [],
      "include_colab_link": true
    },
    "kernelspec": {
      "display_name": "convnet_tutorials",
      "language": "python",
      "name": "convnet_tutorials"
    },
    "language_info": {
      "codemirror_mode": {
        "name": "ipython",
        "version": 3
      },
      "file_extension": ".py",
      "mimetype": "text/x-python",
      "name": "python",
      "nbconvert_exporter": "python",
      "pygments_lexer": "ipython3",
      "version": "3.9.10"
    },
    "gpuClass": "standard"
  },
  "nbformat": 4,
  "nbformat_minor": 0
}